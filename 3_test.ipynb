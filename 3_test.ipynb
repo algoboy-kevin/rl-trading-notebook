{
 "cells": [
  {
   "cell_type": "markdown",
   "metadata": {},
   "source": [
    "# Run Test\n",
    "\n",
    "This notebook will show step by step to validate training result. \n",
    "\n",
    "Steps:\n",
    "1. Load trained model\n",
    "2. Use train and test data compare the result\n",
    "3. Add random data picker to see the result across different time\n"
   ]
  }
 ],
 "metadata": {
  "language_info": {
   "name": "python"
  }
 },
 "nbformat": 4,
 "nbformat_minor": 2
}
